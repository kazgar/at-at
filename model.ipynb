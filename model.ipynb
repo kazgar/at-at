{
 "cells": [
  {
   "cell_type": "code",
   "execution_count": 15,
   "metadata": {},
   "outputs": [],
   "source": [
    "import os\n",
    "import numpy\n",
    "import torch"
   ]
  },
  {
   "cell_type": "code",
   "execution_count": 12,
   "metadata": {},
   "outputs": [],
   "source": [
    "''' SET THE DEVICE '''\n",
    "device = 'mps' if torch.mps.is_available() else 'cpu'"
   ]
  },
  {
   "cell_type": "code",
   "execution_count": null,
   "metadata": {},
   "outputs": [
    {
     "name": "stdout",
     "output_type": "stream",
     "text": [
      "Downloading from https://www.kaggle.com/api/v1/datasets/download/mostafaabla/garbage-classification?dataset_version_number=1...\n"
     ]
    },
    {
     "name": "stderr",
     "output_type": "stream",
     "text": [
      "100%|██████████| 239M/239M [00:34<00:00, 7.35MB/s] "
     ]
    },
    {
     "name": "stdout",
     "output_type": "stream",
     "text": [
      "Extracting files...\n"
     ]
    },
    {
     "name": "stderr",
     "output_type": "stream",
     "text": [
      "\n"
     ]
    },
    {
     "name": "stdout",
     "output_type": "stream",
     "text": [
      "path tp dataset files /Users/kazikgarstecki/.cache/kagglehub/datasets/mostafaabla/garbage-classification/versions/1\n"
     ]
    }
   ],
   "source": [
    "import kagglehub\n",
    "''' UNCOMMENT THE FOLLOWING LINES TO DOWNLOAD DATASET '''\n",
    "#path = kagglehub.dataset_download('mostafaabla/garbage-classification')\n",
    "#print('path to dataset files', path)"
   ]
  },
  {
   "cell_type": "code",
   "execution_count": null,
   "metadata": {},
   "outputs": [
    {
     "name": "stdout",
     "output_type": "stream",
     "text": [
      "/Users/kazikgarstecki/Desktop/Y2S2/as_project\n",
      "paper\n",
      "green-glass\n",
      "clothes\n",
      "metal\n",
      "cardboard\n",
      "trash\n",
      "biological\n",
      "white-glass\n",
      "battery\n",
      "brown-glass\n",
      "plastic\n",
      "shoes\n"
     ]
    }
   ],
   "source": [
    "print(os.getcwd())\n",
    "dir_path = os.path.join(os.getcwd(), 'data/garbage_classification/')\n",
    "\n",
    "for file in os.listdir(dir_path):\n",
    "    print(file)"
   ]
  },
  {
   "cell_type": "code",
   "execution_count": null,
   "metadata": {},
   "outputs": [],
   "source": []
  },
  {
   "cell_type": "code",
   "execution_count": null,
   "metadata": {},
   "outputs": [],
   "source": []
  }
 ],
 "metadata": {
  "kernelspec": {
   "display_name": ".venv",
   "language": "python",
   "name": "python3"
  },
  "language_info": {
   "codemirror_mode": {
    "name": "ipython",
    "version": 3
   },
   "file_extension": ".py",
   "mimetype": "text/x-python",
   "name": "python",
   "nbconvert_exporter": "python",
   "pygments_lexer": "ipython3",
   "version": "3.12.9"
  }
 },
 "nbformat": 4,
 "nbformat_minor": 2
}
