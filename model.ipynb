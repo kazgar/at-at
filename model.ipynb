{
 "cells": [
  {
   "cell_type": "code",
   "execution_count": 52,
   "metadata": {},
   "outputs": [],
   "source": [
    "import os\n",
    "import numpy\n",
    "import torch\n",
    "from pathlib import Path\n",
    "from PIL import Image\n",
    "import matplotlib.pyplot as plt"
   ]
  },
  {
   "cell_type": "code",
   "execution_count": null,
   "metadata": {},
   "outputs": [],
   "source": [
    "''' SET THE DEVICE '''\n",
    "device = 'mps' if torch.mps.is_available() else 'cpu'"
   ]
  },
  {
   "cell_type": "code",
   "execution_count": null,
   "metadata": {},
   "outputs": [
    {
     "name": "stdout",
     "output_type": "stream",
     "text": [
      "Downloading from https://www.kaggle.com/api/v1/datasets/download/mostafaabla/garbage-classification?dataset_version_number=1...\n"
     ]
    },
    {
     "name": "stderr",
     "output_type": "stream",
     "text": [
      "100%|██████████| 239M/239M [00:34<00:00, 7.35MB/s] "
     ]
    },
    {
     "name": "stdout",
     "output_type": "stream",
     "text": [
      "Extracting files...\n"
     ]
    },
    {
     "name": "stderr",
     "output_type": "stream",
     "text": [
      "\n"
     ]
    },
    {
     "name": "stdout",
     "output_type": "stream",
     "text": [
      "path tp dataset files /Users/kazikgarstecki/.cache/kagglehub/datasets/mostafaabla/garbage-classification/versions/1\n"
     ]
    }
   ],
   "source": [
    "import kagglehub\n",
    "''' UNCOMMENT THE FOLLOWING LINES TO DOWNLOAD DATASET '''\n",
    "#path = kagglehub.dataset_download('mostafaabla/garbage-classification')\n",
    "#print('path to dataset files', path)"
   ]
  },
  {
   "cell_type": "code",
   "execution_count": 51,
   "metadata": {},
   "outputs": [
    {
     "name": "stdout",
     "output_type": "stream",
     "text": [
      "All catgories of garbage classification dataset\n",
      "----------------------------------------------------\n",
      "paper\n",
      "green-glass\n",
      "clothes\n",
      "metal\n",
      "cardboard\n",
      "trash\n",
      "biological\n",
      "white-glass\n",
      "battery\n",
      "brown-glass\n",
      "plastic\n",
      "shoes\n"
     ]
    }
   ],
   "source": [
    "dir_path = os.path.join(os.getcwd(), 'data/garbage_classification/')\n",
    "\n",
    "print('All catgories of garbage classification dataset')\n",
    "print('----------------------------------------------------')\n",
    "for file in os.listdir(dir_path):\n",
    "    print(file)"
   ]
  },
  {
   "cell_type": "code",
   "execution_count": null,
   "metadata": {},
   "outputs": [
    {
     "ename": "AttributeError",
     "evalue": "module 'io' has no attribute 'imread'",
     "output_type": "error",
     "traceback": [
      "\u001b[31m---------------------------------------------------------------------------\u001b[39m",
      "\u001b[31mAttributeError\u001b[39m                            Traceback (most recent call last)",
      "\u001b[36mCell\u001b[39m\u001b[36m \u001b[39m\u001b[32mIn[48]\u001b[39m\u001b[32m, line 5\u001b[39m\n\u001b[32m      3\u001b[39m \u001b[38;5;28;01mfor\u001b[39;00m directory_name \u001b[38;5;129;01min\u001b[39;00m data_dict.keys():\n\u001b[32m      4\u001b[39m     \u001b[38;5;28;01mfor\u001b[39;00m im \u001b[38;5;129;01min\u001b[39;00m os.listdir(os.path.join(os.getcwd(), \u001b[33m'\u001b[39m\u001b[33mdata/garbage_classification\u001b[39m\u001b[33m'\u001b[39m, directory_name)):\n\u001b[32m----> \u001b[39m\u001b[32m5\u001b[39m         img = \u001b[43mio\u001b[49m\u001b[43m.\u001b[49m\u001b[43mimread\u001b[49m(im)\n\u001b[32m      6\u001b[39m         \u001b[38;5;28mprint\u001b[39m(img)\n\u001b[32m      9\u001b[39m         \u001b[38;5;28;01mbreak\u001b[39;00m\n",
      "\u001b[31mAttributeError\u001b[39m: module 'io' has no attribute 'imread'"
     ]
    }
   ],
   "source": [
    "data_dict = {directory_name: [] for directory_name in os.listdir(dir_path)}\n",
    "\n",
    "data_path = Path('data/garbage_classification/')\n",
    "\n",
    "\n",
    "for directory_name in data_dict.keys():\n",
    "    for im in os.listdir(os.path.join(os.getcwd(), 'data/garbage_classification', directory_name)):\n",
    "        img = io.imread(im)\n",
    "        print(img)\n",
    "\n",
    "        \n",
    "        break"
   ]
  },
  {
   "cell_type": "code",
   "execution_count": null,
   "metadata": {},
   "outputs": [],
   "source": []
  }
 ],
 "metadata": {
  "kernelspec": {
   "display_name": ".venv",
   "language": "python",
   "name": "python3"
  },
  "language_info": {
   "codemirror_mode": {
    "name": "ipython",
    "version": 3
   },
   "file_extension": ".py",
   "mimetype": "text/x-python",
   "name": "python",
   "nbconvert_exporter": "python",
   "pygments_lexer": "ipython3",
   "version": "3.12.9"
  }
 },
 "nbformat": 4,
 "nbformat_minor": 2
}
